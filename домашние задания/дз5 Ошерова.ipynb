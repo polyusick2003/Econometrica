{
 "cells": [
  {
   "cell_type": "code",
   "execution_count": 31,
   "id": "f981361d",
   "metadata": {},
   "outputs": [],
   "source": [
    "import pandas as pd\n",
    "import numpy as np\n",
    "import statsmodels.formula.api as smf\n",
    "import scipy\n",
    "import re\n",
    "import io"
   ]
  },
  {
   "cell_type": "markdown",
   "id": "07bb4518",
   "metadata": {},
   "source": [
    "# Задача 3.1 cost equation"
   ]
  },
  {
   "cell_type": "code",
   "execution_count": 26,
   "id": "190db3f7",
   "metadata": {},
   "outputs": [
    {
     "data": {
      "text/plain": [
       "(158, 8)"
      ]
     },
     "execution_count": 26,
     "metadata": {},
     "output_type": "execute_result"
    }
   ],
   "source": [
    "data2 = pd.read_csv('https://raw.githubusercontent.com/artamonoff/Econometrica/master/python-notebooks/data-csv/Electricity.csv')\n",
    "data2.shape"
   ]
  },
  {
   "cell_type": "code",
   "execution_count": 27,
   "id": "41b0f08a",
   "metadata": {},
   "outputs": [
    {
     "data": {
      "text/html": [
       "<table class=\"simpletable\">\n",
       "<caption>OLS Regression Results</caption>\n",
       "<tr>\n",
       "  <th>Dep. Variable:</th>      <td>np.log(cost)</td>   <th>  R-squared:         </th> <td>   0.992</td> \n",
       "</tr>\n",
       "<tr>\n",
       "  <th>Model:</th>                   <td>OLS</td>       <th>  Adj. R-squared:    </th> <td>   0.992</td> \n",
       "</tr>\n",
       "<tr>\n",
       "  <th>Method:</th>             <td>Least Squares</td>  <th>  F-statistic:       </th> <td>   3880.</td> \n",
       "</tr>\n",
       "<tr>\n",
       "  <th>Date:</th>             <td>Fri, 31 Mar 2023</td> <th>  Prob (F-statistic):</th> <td>2.45e-158</td>\n",
       "</tr>\n",
       "<tr>\n",
       "  <th>Time:</th>                 <td>14:44:14</td>     <th>  Log-Likelihood:    </th> <td>  91.515</td> \n",
       "</tr>\n",
       "<tr>\n",
       "  <th>No. Observations:</th>      <td>   158</td>      <th>  AIC:               </th> <td>  -171.0</td> \n",
       "</tr>\n",
       "<tr>\n",
       "  <th>Df Residuals:</th>          <td>   152</td>      <th>  BIC:               </th> <td>  -152.7</td> \n",
       "</tr>\n",
       "<tr>\n",
       "  <th>Df Model:</th>              <td>     5</td>      <th>                     </th>     <td> </td>    \n",
       "</tr>\n",
       "<tr>\n",
       "  <th>Covariance Type:</th>      <td>nonrobust</td>    <th>                     </th>     <td> </td>    \n",
       "</tr>\n",
       "</table>\n",
       "<table class=\"simpletable\">\n",
       "<tr>\n",
       "          <td></td>             <th>coef</th>     <th>std err</th>      <th>t</th>      <th>P>|t|</th>  <th>[0.025</th>    <th>0.975]</th>  \n",
       "</tr>\n",
       "<tr>\n",
       "  <th>Intercept</th>         <td>   -6.7387</td> <td>    0.706</td> <td>   -9.541</td> <td> 0.000</td> <td>   -8.134</td> <td>   -5.343</td>\n",
       "</tr>\n",
       "<tr>\n",
       "  <th>np.log(q)</th>         <td>    0.4030</td> <td>    0.032</td> <td>   12.734</td> <td> 0.000</td> <td>    0.340</td> <td>    0.466</td>\n",
       "</tr>\n",
       "<tr>\n",
       "  <th>I(np.log(q) ** 2)</th> <td>    0.0304</td> <td>    0.002</td> <td>   14.024</td> <td> 0.000</td> <td>    0.026</td> <td>    0.035</td>\n",
       "</tr>\n",
       "<tr>\n",
       "  <th>np.log(pl)</th>        <td>    0.1461</td> <td>    0.070</td> <td>    2.073</td> <td> 0.040</td> <td>    0.007</td> <td>    0.285</td>\n",
       "</tr>\n",
       "<tr>\n",
       "  <th>np.log(pk)</th>        <td>    0.1571</td> <td>    0.058</td> <td>    2.721</td> <td> 0.007</td> <td>    0.043</td> <td>    0.271</td>\n",
       "</tr>\n",
       "<tr>\n",
       "  <th>np.log(pf)</th>        <td>    0.6847</td> <td>    0.043</td> <td>   16.043</td> <td> 0.000</td> <td>    0.600</td> <td>    0.769</td>\n",
       "</tr>\n",
       "</table>\n",
       "<table class=\"simpletable\">\n",
       "<tr>\n",
       "  <th>Omnibus:</th>       <td> 2.342</td> <th>  Durbin-Watson:     </th> <td>   1.798</td>\n",
       "</tr>\n",
       "<tr>\n",
       "  <th>Prob(Omnibus):</th> <td> 0.310</td> <th>  Jarque-Bera (JB):  </th> <td>   2.078</td>\n",
       "</tr>\n",
       "<tr>\n",
       "  <th>Skew:</th>          <td> 0.109</td> <th>  Prob(JB):          </th> <td>   0.354</td>\n",
       "</tr>\n",
       "<tr>\n",
       "  <th>Kurtosis:</th>      <td> 3.518</td> <th>  Cond. No.          </th> <td>4.99e+03</td>\n",
       "</tr>\n",
       "</table><br/><br/>Notes:<br/>[1] Standard Errors assume that the covariance matrix of the errors is correctly specified.<br/>[2] The condition number is large, 4.99e+03. This might indicate that there are<br/>strong multicollinearity or other numerical problems."
      ],
      "text/plain": [
       "<class 'statsmodels.iolib.summary.Summary'>\n",
       "\"\"\"\n",
       "                            OLS Regression Results                            \n",
       "==============================================================================\n",
       "Dep. Variable:           np.log(cost)   R-squared:                       0.992\n",
       "Model:                            OLS   Adj. R-squared:                  0.992\n",
       "Method:                 Least Squares   F-statistic:                     3880.\n",
       "Date:                Fri, 31 Mar 2023   Prob (F-statistic):          2.45e-158\n",
       "Time:                        14:44:14   Log-Likelihood:                 91.515\n",
       "No. Observations:                 158   AIC:                            -171.0\n",
       "Df Residuals:                     152   BIC:                            -152.7\n",
       "Df Model:                           5                                         \n",
       "Covariance Type:            nonrobust                                         \n",
       "=====================================================================================\n",
       "                        coef    std err          t      P>|t|      [0.025      0.975]\n",
       "-------------------------------------------------------------------------------------\n",
       "Intercept            -6.7387      0.706     -9.541      0.000      -8.134      -5.343\n",
       "np.log(q)             0.4030      0.032     12.734      0.000       0.340       0.466\n",
       "I(np.log(q) ** 2)     0.0304      0.002     14.024      0.000       0.026       0.035\n",
       "np.log(pl)            0.1461      0.070      2.073      0.040       0.007       0.285\n",
       "np.log(pk)            0.1571      0.058      2.721      0.007       0.043       0.271\n",
       "np.log(pf)            0.6847      0.043     16.043      0.000       0.600       0.769\n",
       "==============================================================================\n",
       "Omnibus:                        2.342   Durbin-Watson:                   1.798\n",
       "Prob(Omnibus):                  0.310   Jarque-Bera (JB):                2.078\n",
       "Skew:                           0.109   Prob(JB):                        0.354\n",
       "Kurtosis:                       3.518   Cond. No.                     4.99e+03\n",
       "==============================================================================\n",
       "\n",
       "Notes:\n",
       "[1] Standard Errors assume that the covariance matrix of the errors is correctly specified.\n",
       "[2] The condition number is large, 4.99e+03. This might indicate that there are\n",
       "strong multicollinearity or other numerical problems.\n",
       "\"\"\""
      ]
     },
     "execution_count": 27,
     "metadata": {},
     "output_type": "execute_result"
    }
   ],
   "source": [
    "mod31 =smf.ols(formula='np.log(cost) ~ np.log(q)+I(np.log(q)**2)+np.log(pl)+np.log(pk)+np.log(pf)', data=data2)\n",
    "Cost_eq31 = mod31.fit()\n",
    "Cost_eq31.summary()"
   ]
  },
  {
   "cell_type": "code",
   "execution_count": 28,
   "id": "5ab89378",
   "metadata": {},
   "outputs": [
    {
     "name": "stdout",
     "output_type": "stream",
     "text": [
      "Уровень значимости alpha:  0.01\n",
      "Критическое значение t_crit:  2.609\n"
     ]
    }
   ],
   "source": [
    "alpha = 0.01 \n",
    "print('Уровень значимости alpha: ', alpha)\n",
    "DF = int(Cost_eq31.df_resid)\n",
    "t_crit = scipy.stats.t.ppf(1-alpha/2, DF)\n",
    "print('Критическое значение t_crit: ', t_crit.round(3))"
   ]
  },
  {
   "cell_type": "code",
   "execution_count": 49,
   "id": "4aaa4f7c",
   "metadata": {},
   "outputs": [
    {
     "data": {
      "text/html": [
       "<div>\n",
       "<style scoped>\n",
       "    .dataframe tbody tr th:only-of-type {\n",
       "        vertical-align: middle;\n",
       "    }\n",
       "\n",
       "    .dataframe tbody tr th {\n",
       "        vertical-align: top;\n",
       "    }\n",
       "\n",
       "    .dataframe thead th {\n",
       "        text-align: right;\n",
       "    }\n",
       "</style>\n",
       "<table border=\"1\" class=\"dataframe\">\n",
       "  <thead>\n",
       "    <tr style=\"text-align: right;\">\n",
       "      <th></th>\n",
       "      <th>coef</th>\n",
       "      <th>std err</th>\n",
       "      <th>t</th>\n",
       "      <th>P&gt;|t|</th>\n",
       "      <th>[0.025</th>\n",
       "      <th>0.975]</th>\n",
       "      <th>significance</th>\n",
       "    </tr>\n",
       "  </thead>\n",
       "  <tbody>\n",
       "    <tr>\n",
       "      <th>Intercept</th>\n",
       "      <td>-6.7387</td>\n",
       "      <td>0.706</td>\n",
       "      <td>-9.541</td>\n",
       "      <td>0.000</td>\n",
       "      <td>-8.134</td>\n",
       "      <td>-5.343</td>\n",
       "      <td>Значим</td>\n",
       "    </tr>\n",
       "    <tr>\n",
       "      <th>np.log(q)</th>\n",
       "      <td>0.4030</td>\n",
       "      <td>0.032</td>\n",
       "      <td>12.734</td>\n",
       "      <td>0.000</td>\n",
       "      <td>0.340</td>\n",
       "      <td>0.466</td>\n",
       "      <td>Значим</td>\n",
       "    </tr>\n",
       "    <tr>\n",
       "      <th>I(np.log(q) ** 2)</th>\n",
       "      <td>0.0304</td>\n",
       "      <td>0.002</td>\n",
       "      <td>14.024</td>\n",
       "      <td>0.000</td>\n",
       "      <td>0.026</td>\n",
       "      <td>0.035</td>\n",
       "      <td>Значим</td>\n",
       "    </tr>\n",
       "    <tr>\n",
       "      <th>np.log(pl)</th>\n",
       "      <td>0.1461</td>\n",
       "      <td>0.070</td>\n",
       "      <td>2.073</td>\n",
       "      <td>0.040</td>\n",
       "      <td>0.007</td>\n",
       "      <td>0.285</td>\n",
       "      <td>Значим</td>\n",
       "    </tr>\n",
       "    <tr>\n",
       "      <th>np.log(pk)</th>\n",
       "      <td>0.1571</td>\n",
       "      <td>0.058</td>\n",
       "      <td>2.721</td>\n",
       "      <td>0.007</td>\n",
       "      <td>0.043</td>\n",
       "      <td>0.271</td>\n",
       "      <td>Значим</td>\n",
       "    </tr>\n",
       "    <tr>\n",
       "      <th>np.log(pf)</th>\n",
       "      <td>0.6847</td>\n",
       "      <td>0.043</td>\n",
       "      <td>16.043</td>\n",
       "      <td>0.000</td>\n",
       "      <td>0.600</td>\n",
       "      <td>0.769</td>\n",
       "      <td>Значим</td>\n",
       "    </tr>\n",
       "  </tbody>\n",
       "</table>\n",
       "</div>"
      ],
      "text/plain": [
       "                     coef  std err       t  P>|t|  [0.025  0.975] significance\n",
       "Intercept         -6.7387    0.706  -9.541  0.000  -8.134  -5.343       Значим\n",
       "np.log(q)          0.4030    0.032  12.734  0.000   0.340   0.466       Значим\n",
       "I(np.log(q) ** 2)  0.0304    0.002  14.024  0.000   0.026   0.035       Значим\n",
       "np.log(pl)         0.1461    0.070   2.073  0.040   0.007   0.285       Значим\n",
       "np.log(pk)         0.1571    0.058   2.721  0.007   0.043   0.271       Значим\n",
       "np.log(pf)         0.6847    0.043  16.043  0.000   0.600   0.769       Значим"
      ]
     },
     "execution_count": 49,
     "metadata": {},
     "output_type": "execute_result"
    }
   ],
   "source": [
    "table2 = pd.read_html(Cost_eq31.summary().tables[1].as_html(), header=0, index_col=0)[0] \n",
    "table2['significance'] = table2.apply(lambda x : 'Значим' if np.abs(x['t']) > t_crit else 'Незначим', axis = 1 )\n",
    "table2"
   ]
  },
  {
   "cell_type": "markdown",
   "id": "0df390e4",
   "metadata": {},
   "source": [
    "# 3.1.1 Гипотеза 1"
   ]
  },
  {
   "cell_type": "markdown",
   "id": "656f986c",
   "metadata": {},
   "source": [
    "$$ H_0: \\beta_{pf} + \\beta_{pl} + \\beta_{pk} = 1 $$"
   ]
  },
  {
   "cell_type": "markdown",
   "id": "ceef8c81",
   "metadata": {},
   "source": [
    "$$$$\n",
    "Интерпретация: Постоянная отдача  от  $log(pl), log(pk)$ и $log(pf)$ "
   ]
  },
  {
   "cell_type": "code",
   "execution_count": 38,
   "id": "c99b4815",
   "metadata": {},
   "outputs": [
    {
     "name": "stdout",
     "output_type": "stream",
     "text": [
      "<F test: F=0.014541184876268065, p=0.9041775484872097, df_denom=152, df_num=1>\n"
     ]
    }
   ],
   "source": [
    "print(Cost_eq31.f_test(\"np.log(pl)+np.log(pk)+np.log(pf) = 1\"))"
   ]
  },
  {
   "cell_type": "code",
   "execution_count": 35,
   "id": "7c75d373",
   "metadata": {},
   "outputs": [
    {
     "name": "stdout",
     "output_type": "stream",
     "text": [
      "Уровень значимости alpha:  0.01\n",
      "J = 1 ,  n-k-1 = 152\n",
      "F-critical:  6.805\n"
     ]
    }
   ],
   "source": [
    "alpha = 0.01 \n",
    "print('Уровень значимости alpha: ', alpha)\n",
    "dfn = int(1) \n",
    "dfd = int(Cost_eq31.df_resid) \n",
    "print(\"J =\", dfn,\", \", \"n-k-1 =\", dfd)\n",
    "F_crit = scipy.stats.f.ppf(1-alpha, dfn, dfd)\n",
    "print(\"F-critical: \", F_crit.round(3))"
   ]
  },
  {
   "cell_type": "markdown",
   "id": "ffdeb197",
   "metadata": {},
   "source": [
    "$$$$ Гипотеза 1 не отвергается"
   ]
  },
  {
   "cell_type": "markdown",
   "id": "1194bcfa",
   "metadata": {},
   "source": [
    "# 3.1.2 Гипотеза 2"
   ]
  },
  {
   "cell_type": "markdown",
   "id": "e9d581dd",
   "metadata": {},
   "source": [
    "$$ H_0:  \\beta_{pl} = \\beta_{pk} $$"
   ]
  },
  {
   "cell_type": "markdown",
   "id": "28706da3",
   "metadata": {},
   "source": [
    "$$$$\n",
    "Интерпретация: отдача  от  $log(pl)$ и отдача  от $log(pk)$ равны"
   ]
  },
  {
   "cell_type": "code",
   "execution_count": 39,
   "id": "4964ef51",
   "metadata": {},
   "outputs": [
    {
     "name": "stdout",
     "output_type": "stream",
     "text": [
      "<F test: F=0.020086275898526424, p=0.8874840609151121, df_denom=152, df_num=1>\n"
     ]
    }
   ],
   "source": [
    "print(Cost_eq31.f_test(\"np.log(pl) = np.log(pk)\")) "
   ]
  },
  {
   "cell_type": "code",
   "execution_count": 40,
   "id": "deb2330a",
   "metadata": {},
   "outputs": [
    {
     "name": "stdout",
     "output_type": "stream",
     "text": [
      "Уровень значимости alpha:  0.01\n",
      "J = 1 ,  n-k-1 = 152\n",
      "F-critical:  6.805\n"
     ]
    }
   ],
   "source": [
    "alpha = 0.01\n",
    "print('Уровень значимости alpha: ', alpha)\n",
    "dfn = int(1) \n",
    "dfd = int(Cost_eq31.df_resid) \n",
    "print(\"J =\", dfn,\", \", \"n-k-1 =\", dfd)\n",
    "F_crit = scipy.stats.f.ppf(1-alpha, dfn, dfd)\n",
    "print(\"F-critical: \", F_crit.round(3))"
   ]
  },
  {
   "cell_type": "markdown",
   "id": "77c7f0c2",
   "metadata": {},
   "source": [
    "$$$$ Гипотеза 2 не отвергается"
   ]
  },
  {
   "cell_type": "markdown",
   "id": "708c6be4",
   "metadata": {},
   "source": [
    "# 3.1.3 Гипотеза 3"
   ]
  },
  {
   "cell_type": "markdown",
   "id": "5fef399b",
   "metadata": {},
   "source": [
    "$$ H_0:  \\beta_{pf} = \\beta_{pl} = \\beta_{pk}$$"
   ]
  },
  {
   "cell_type": "markdown",
   "id": "7e125a0a",
   "metadata": {},
   "source": [
    "$$$$\n",
    "Интерпретация: отдача  от  $log(pf)$, отдача  от $log(pl)$ и отдача  от $log(pk)$ равны"
   ]
  },
  {
   "cell_type": "code",
   "execution_count": 41,
   "id": "2c34b791",
   "metadata": {},
   "outputs": [
    {
     "name": "stdout",
     "output_type": "stream",
     "text": [
      "<F test: F=26.417080686252184, p=1.4240695015055136e-10, df_denom=152, df_num=2>\n"
     ]
    }
   ],
   "source": [
    "print(Cost_eq31.f_test(\"np.log(pf)=np.log(pl)=np.log(pk)\")) "
   ]
  },
  {
   "cell_type": "code",
   "execution_count": 43,
   "id": "f8e94563",
   "metadata": {},
   "outputs": [
    {
     "name": "stdout",
     "output_type": "stream",
     "text": [
      "Уровень значимости alpha:  0.01\n",
      "J = 2 ,  n-k-1 = 152\n",
      "F-critical:  4.748\n"
     ]
    }
   ],
   "source": [
    "alpha = 0.01 \n",
    "print('Уровень значимости alpha: ', alpha)\n",
    "dfn = int(2) \n",
    "dfd = int(Cost_eq31.df_resid) \n",
    "print(\"J =\", dfn,\", \", \"n-k-1 =\", dfd)\n",
    "F_crit = scipy.stats.f.ppf(1-alpha, dfn, dfd)\n",
    "print(\"F-critical: \", F_crit.round(3))"
   ]
  },
  {
   "cell_type": "markdown",
   "id": "f09d12cf",
   "metadata": {},
   "source": [
    "$$$$ Гипотеза 3 отвергается"
   ]
  },
  {
   "cell_type": "markdown",
   "id": "801b3a45",
   "metadata": {},
   "source": [
    "# 3.2 output equation"
   ]
  },
  {
   "cell_type": "code",
   "execution_count": 44,
   "id": "ca3ae2ee",
   "metadata": {},
   "outputs": [
    {
     "data": {
      "text/plain": [
       "(569, 4)"
      ]
     },
     "execution_count": 44,
     "metadata": {},
     "output_type": "execute_result"
    }
   ],
   "source": [
    "data3 = pd.read_csv('https://raw.githubusercontent.com/artamonoff/Econometrica/master/python-notebooks/data-csv/Labour.csv')\n",
    "data3.shape"
   ]
  },
  {
   "cell_type": "code",
   "execution_count": 45,
   "id": "865ce3e0",
   "metadata": {},
   "outputs": [
    {
     "data": {
      "text/html": [
       "<table class=\"simpletable\">\n",
       "<caption>OLS Regression Results</caption>\n",
       "<tr>\n",
       "  <th>Dep. Variable:</th>     <td>np.log(output)</td>  <th>  R-squared:         </th> <td>   0.888</td> \n",
       "</tr>\n",
       "<tr>\n",
       "  <th>Model:</th>                   <td>OLS</td>       <th>  Adj. R-squared:    </th> <td>   0.888</td> \n",
       "</tr>\n",
       "<tr>\n",
       "  <th>Method:</th>             <td>Least Squares</td>  <th>  F-statistic:       </th> <td>   1499.</td> \n",
       "</tr>\n",
       "<tr>\n",
       "  <th>Date:</th>             <td>Fri, 31 Mar 2023</td> <th>  Prob (F-statistic):</th> <td>1.65e-268</td>\n",
       "</tr>\n",
       "<tr>\n",
       "  <th>Time:</th>                 <td>15:09:58</td>     <th>  Log-Likelihood:    </th> <td> -279.62</td> \n",
       "</tr>\n",
       "<tr>\n",
       "  <th>No. Observations:</th>      <td>   569</td>      <th>  AIC:               </th> <td>   567.2</td> \n",
       "</tr>\n",
       "<tr>\n",
       "  <th>Df Residuals:</th>          <td>   565</td>      <th>  BIC:               </th> <td>   584.6</td> \n",
       "</tr>\n",
       "<tr>\n",
       "  <th>Df Model:</th>              <td>     3</td>      <th>                     </th>     <td> </td>    \n",
       "</tr>\n",
       "<tr>\n",
       "  <th>Covariance Type:</th>      <td>nonrobust</td>    <th>                     </th>     <td> </td>    \n",
       "</tr>\n",
       "</table>\n",
       "<table class=\"simpletable\">\n",
       "<tr>\n",
       "         <td></td>            <th>coef</th>     <th>std err</th>      <th>t</th>      <th>P>|t|</th>  <th>[0.025</th>    <th>0.975]</th>  \n",
       "</tr>\n",
       "<tr>\n",
       "  <th>Intercept</th>       <td>   -5.0073</td> <td>    0.221</td> <td>  -22.649</td> <td> 0.000</td> <td>   -5.442</td> <td>   -4.573</td>\n",
       "</tr>\n",
       "<tr>\n",
       "  <th>np.log(capital)</th> <td>    0.1493</td> <td>    0.015</td> <td>   10.141</td> <td> 0.000</td> <td>    0.120</td> <td>    0.178</td>\n",
       "</tr>\n",
       "<tr>\n",
       "  <th>np.log(labour)</th>  <td>    0.7204</td> <td>    0.019</td> <td>   37.487</td> <td> 0.000</td> <td>    0.683</td> <td>    0.758</td>\n",
       "</tr>\n",
       "<tr>\n",
       "  <th>np.log(wage)</th>    <td>    0.9214</td> <td>    0.058</td> <td>   16.001</td> <td> 0.000</td> <td>    0.808</td> <td>    1.034</td>\n",
       "</tr>\n",
       "</table>\n",
       "<table class=\"simpletable\">\n",
       "<tr>\n",
       "  <th>Omnibus:</th>       <td>252.010</td> <th>  Durbin-Watson:     </th> <td>   2.008</td>\n",
       "</tr>\n",
       "<tr>\n",
       "  <th>Prob(Omnibus):</th> <td> 0.000</td>  <th>  Jarque-Bera (JB):  </th> <td>3723.965</td>\n",
       "</tr>\n",
       "<tr>\n",
       "  <th>Skew:</th>          <td> 1.547</td>  <th>  Prob(JB):          </th> <td>    0.00</td>\n",
       "</tr>\n",
       "<tr>\n",
       "  <th>Kurtosis:</th>      <td>15.145</td>  <th>  Cond. No.          </th> <td>    82.3</td>\n",
       "</tr>\n",
       "</table><br/><br/>Notes:<br/>[1] Standard Errors assume that the covariance matrix of the errors is correctly specified."
      ],
      "text/plain": [
       "<class 'statsmodels.iolib.summary.Summary'>\n",
       "\"\"\"\n",
       "                            OLS Regression Results                            \n",
       "==============================================================================\n",
       "Dep. Variable:         np.log(output)   R-squared:                       0.888\n",
       "Model:                            OLS   Adj. R-squared:                  0.888\n",
       "Method:                 Least Squares   F-statistic:                     1499.\n",
       "Date:                Fri, 31 Mar 2023   Prob (F-statistic):          1.65e-268\n",
       "Time:                        15:09:58   Log-Likelihood:                -279.62\n",
       "No. Observations:                 569   AIC:                             567.2\n",
       "Df Residuals:                     565   BIC:                             584.6\n",
       "Df Model:                           3                                         \n",
       "Covariance Type:            nonrobust                                         \n",
       "===================================================================================\n",
       "                      coef    std err          t      P>|t|      [0.025      0.975]\n",
       "-----------------------------------------------------------------------------------\n",
       "Intercept          -5.0073      0.221    -22.649      0.000      -5.442      -4.573\n",
       "np.log(capital)     0.1493      0.015     10.141      0.000       0.120       0.178\n",
       "np.log(labour)      0.7204      0.019     37.487      0.000       0.683       0.758\n",
       "np.log(wage)        0.9214      0.058     16.001      0.000       0.808       1.034\n",
       "==============================================================================\n",
       "Omnibus:                      252.010   Durbin-Watson:                   2.008\n",
       "Prob(Omnibus):                  0.000   Jarque-Bera (JB):             3723.965\n",
       "Skew:                           1.547   Prob(JB):                         0.00\n",
       "Kurtosis:                      15.145   Cond. No.                         82.3\n",
       "==============================================================================\n",
       "\n",
       "Notes:\n",
       "[1] Standard Errors assume that the covariance matrix of the errors is correctly specified.\n",
       "\"\"\""
      ]
     },
     "execution_count": 45,
     "metadata": {},
     "output_type": "execute_result"
    }
   ],
   "source": [
    "mod32 =smf.ols(formula='np.log(output)~np.log(capital)+np.log(labour)+np.log(wage)', data=data3)\n",
    "Output_eq31 = mod32.fit()\n",
    "Output_eq31.summary()"
   ]
  },
  {
   "cell_type": "code",
   "execution_count": 46,
   "id": "05b49649",
   "metadata": {},
   "outputs": [
    {
     "name": "stdout",
     "output_type": "stream",
     "text": [
      "Уровень значимости alpha:  0.05\n",
      "Критическое значение t_crit:  1.976\n"
     ]
    }
   ],
   "source": [
    "alpha = 0.05 \n",
    "print('Уровень значимости alpha: ', alpha)\n",
    "DF = int(Cost_eq31.df_resid)\n",
    "t_crit = scipy.stats.t.ppf(1-alpha/2, DF)\n",
    "print('Критическое значение t_crit: ', t_crit.round(3))"
   ]
  },
  {
   "cell_type": "code",
   "execution_count": 50,
   "id": "544e523a",
   "metadata": {},
   "outputs": [
    {
     "data": {
      "text/html": [
       "<div>\n",
       "<style scoped>\n",
       "    .dataframe tbody tr th:only-of-type {\n",
       "        vertical-align: middle;\n",
       "    }\n",
       "\n",
       "    .dataframe tbody tr th {\n",
       "        vertical-align: top;\n",
       "    }\n",
       "\n",
       "    .dataframe thead th {\n",
       "        text-align: right;\n",
       "    }\n",
       "</style>\n",
       "<table border=\"1\" class=\"dataframe\">\n",
       "  <thead>\n",
       "    <tr style=\"text-align: right;\">\n",
       "      <th></th>\n",
       "      <th>coef</th>\n",
       "      <th>std err</th>\n",
       "      <th>t</th>\n",
       "      <th>P&gt;|t|</th>\n",
       "      <th>[0.025</th>\n",
       "      <th>0.975]</th>\n",
       "      <th>significance</th>\n",
       "    </tr>\n",
       "  </thead>\n",
       "  <tbody>\n",
       "    <tr>\n",
       "      <th>Intercept</th>\n",
       "      <td>-5.0073</td>\n",
       "      <td>0.221</td>\n",
       "      <td>-22.649</td>\n",
       "      <td>0.0</td>\n",
       "      <td>-5.442</td>\n",
       "      <td>-4.573</td>\n",
       "      <td>Значим</td>\n",
       "    </tr>\n",
       "    <tr>\n",
       "      <th>np.log(capital)</th>\n",
       "      <td>0.1493</td>\n",
       "      <td>0.015</td>\n",
       "      <td>10.141</td>\n",
       "      <td>0.0</td>\n",
       "      <td>0.120</td>\n",
       "      <td>0.178</td>\n",
       "      <td>Значим</td>\n",
       "    </tr>\n",
       "    <tr>\n",
       "      <th>np.log(labour)</th>\n",
       "      <td>0.7204</td>\n",
       "      <td>0.019</td>\n",
       "      <td>37.487</td>\n",
       "      <td>0.0</td>\n",
       "      <td>0.683</td>\n",
       "      <td>0.758</td>\n",
       "      <td>Значим</td>\n",
       "    </tr>\n",
       "    <tr>\n",
       "      <th>np.log(wage)</th>\n",
       "      <td>0.9214</td>\n",
       "      <td>0.058</td>\n",
       "      <td>16.001</td>\n",
       "      <td>0.0</td>\n",
       "      <td>0.808</td>\n",
       "      <td>1.034</td>\n",
       "      <td>Значим</td>\n",
       "    </tr>\n",
       "  </tbody>\n",
       "</table>\n",
       "</div>"
      ],
      "text/plain": [
       "                   coef  std err       t  P>|t|  [0.025  0.975] significance\n",
       "Intercept       -5.0073    0.221 -22.649    0.0  -5.442  -4.573       Значим\n",
       "np.log(capital)  0.1493    0.015  10.141    0.0   0.120   0.178       Значим\n",
       "np.log(labour)   0.7204    0.019  37.487    0.0   0.683   0.758       Значим\n",
       "np.log(wage)     0.9214    0.058  16.001    0.0   0.808   1.034       Значим"
      ]
     },
     "execution_count": 50,
     "metadata": {},
     "output_type": "execute_result"
    }
   ],
   "source": [
    "table2 = pd.read_html(Output_eq31.summary().tables[1].as_html(), header=0, index_col=0)[0]\n",
    "table2['significance'] = table2.apply(lambda x : 'Значим' if np.abs(x['t']) > t_crit else 'Незначим', axis = 1 )\n",
    "table2"
   ]
  },
  {
   "cell_type": "markdown",
   "id": "28a282f0",
   "metadata": {},
   "source": [
    "# 3.2.1 Гипотеза 1"
   ]
  },
  {
   "cell_type": "markdown",
   "id": "61b7f1ce",
   "metadata": {},
   "source": [
    "$$ H_0:  \\beta_{capital} + \\beta_{labour} + \\beta_{wage} = 1 $$"
   ]
  },
  {
   "cell_type": "markdown",
   "id": "f29d966c",
   "metadata": {},
   "source": [
    "$$$$Интерпретация: Постоянная отдача от масштаба"
   ]
  },
  {
   "cell_type": "code",
   "execution_count": 51,
   "id": "c1a641b6",
   "metadata": {},
   "outputs": [
    {
     "name": "stdout",
     "output_type": "stream",
     "text": [
      "198.5869331584923\n",
      "7.280959454662307e-39\n",
      "565.0\n",
      "1.0\n",
      "<F test: F=198.5869331584923, p=7.280959454662307e-39, df_denom=565, df_num=1>\n"
     ]
    }
   ],
   "source": [
    "A = Output_eq31.f_test(\"np.log(capital)+np.log(labour)+np.log(wage) = 1\")\n",
    "print(A.fvalue)\n",
    "print(A.pvalue)\n",
    "print(A.df_denom)\n",
    "print(A.df_num)\n",
    "print(Output_eq31.f_test(\"np.log(capital)+np.log(labour)+np.log(wage) = 1\")) "
   ]
  },
  {
   "cell_type": "code",
   "execution_count": 52,
   "id": "c96094e6",
   "metadata": {},
   "outputs": [
    {
     "data": {
      "text/plain": [
       "statsmodels.stats.contrast.ContrastResults"
      ]
     },
     "execution_count": 52,
     "metadata": {},
     "output_type": "execute_result"
    }
   ],
   "source": [
    "type(Output_eq31.f_test(\"np.log(capital)+np.log(labour)+np.log(wage) = 1\"))"
   ]
  },
  {
   "cell_type": "code",
   "execution_count": 53,
   "id": "c2f80eff",
   "metadata": {},
   "outputs": [
    {
     "name": "stdout",
     "output_type": "stream",
     "text": [
      "Уровень значимости alpha:  0.05\n",
      "J = 1 ,  n-k-1 = 565\n",
      "F-critical:  3.858\n"
     ]
    }
   ],
   "source": [
    "alpha = 0.05\n",
    "print('Уровень значимости alpha: ', alpha)\n",
    "dfn = int(1) \n",
    "dfd = int(Output_eq31.df_resid) \n",
    "print(\"J =\", dfn,\", \", \"n-k-1 =\", dfd)\n",
    "F_crit = scipy.stats.f.ppf(1-alpha, dfn, dfd)\n",
    "print(\"F-critical: \", F_crit.round(3))"
   ]
  },
  {
   "cell_type": "code",
   "execution_count": 55,
   "id": "bcac8744",
   "metadata": {},
   "outputs": [
    {
     "name": "stdout",
     "output_type": "stream",
     "text": [
      "Гипотеза 1 отвергается\n"
     ]
    }
   ],
   "source": [
    "F_stat = A.fvalue\n",
    "if (F_stat > F_crit):\n",
    "    print('Гипотеза 1 отвергается')\n",
    "else:\n",
    "    print('Гипотеза 1 не отвергается')"
   ]
  },
  {
   "cell_type": "markdown",
   "id": "6e3b55b4",
   "metadata": {},
   "source": [
    "# 3.2.2 Гипотеза 2"
   ]
  },
  {
   "cell_type": "markdown",
   "id": "a5fcd6b6",
   "metadata": {},
   "source": [
    "$$ H_0:   \\beta_{labour} = \\beta_{wage} $$"
   ]
  },
  {
   "cell_type": "markdown",
   "id": "6082ea9f",
   "metadata": {},
   "source": [
    "$$$$Интерпретация: отдача от labour и отдача от wage равны"
   ]
  },
  {
   "cell_type": "code",
   "execution_count": 58,
   "id": "f6acc375",
   "metadata": {},
   "outputs": [
    {
     "name": "stdout",
     "output_type": "stream",
     "text": [
      "<F test: F=11.08097824634219, p=0.0009289780461988841, df_denom=565, df_num=1>\n"
     ]
    }
   ],
   "source": [
    "print(Output_eq31.f_test(\"np.log(labour)=np.log(wage)\")) "
   ]
  },
  {
   "cell_type": "code",
   "execution_count": 56,
   "id": "103738fb",
   "metadata": {},
   "outputs": [
    {
     "name": "stdout",
     "output_type": "stream",
     "text": [
      "Уровень значимости alpha:  0.05\n",
      "J = 1 ,  n-k-1 = 565\n",
      "F-critical:  3.858\n"
     ]
    }
   ],
   "source": [
    "alpha = 0.05\n",
    "print('Уровень значимости alpha: ', alpha)\n",
    "dfn = int(1) \n",
    "dfd = int(Output_eq31.df_resid) \n",
    "print(\"J =\", dfn,\", \", \"n-k-1 =\", dfd)\n",
    "F_crit = scipy.stats.f.ppf(1-alpha, dfn, dfd)\n",
    "print(\"F-critical: \", F_crit.round(3))"
   ]
  },
  {
   "cell_type": "code",
   "execution_count": 59,
   "id": "c359a319",
   "metadata": {},
   "outputs": [
    {
     "name": "stdout",
     "output_type": "stream",
     "text": [
      "Гипотеза 2 отвергается\n"
     ]
    }
   ],
   "source": [
    "F_stat = A.fvalue\n",
    "if (F_stat > F_crit):\n",
    "    print('Гипотеза 2 отвергается')\n",
    "else:\n",
    "    print('Гипотеза 2 не отвергается')"
   ]
  },
  {
   "cell_type": "markdown",
   "id": "407af571",
   "metadata": {},
   "source": [
    "# 3.2.3 Гипотеза 3"
   ]
  },
  {
   "cell_type": "markdown",
   "id": "1d5606ac",
   "metadata": {},
   "source": [
    "$$ H_0:   \\beta_{capital} = \\beta_{labour} = \\beta_{wage} $$"
   ]
  },
  {
   "cell_type": "markdown",
   "id": "f0606d8b",
   "metadata": {},
   "source": [
    "$$$$Интерпретация: отдача от capital, отдача от labour и отдача от wage равны"
   ]
  },
  {
   "cell_type": "code",
   "execution_count": 61,
   "id": "4755ea5b",
   "metadata": {},
   "outputs": [
    {
     "name": "stdout",
     "output_type": "stream",
     "text": [
      "<F test: F=192.36687126560264, p=1.9105516323871696e-64, df_denom=565, df_num=2>\n"
     ]
    }
   ],
   "source": [
    "print(Output_eq31.f_test(\"np.log(capital)=np.log(labour)=np.log(wage)\")) "
   ]
  },
  {
   "cell_type": "code",
   "execution_count": 64,
   "id": "39a91410",
   "metadata": {},
   "outputs": [
    {
     "name": "stdout",
     "output_type": "stream",
     "text": [
      "Уровень значимости alpha:  0.05\n",
      "J = 2 ,  n-k-1 = 565\n",
      "F-critical:  3.012\n"
     ]
    }
   ],
   "source": [
    "alpha = 0.05\n",
    "print('Уровень значимости alpha: ', alpha)\n",
    "dfn = int(2) \n",
    "dfd = int(Output_eq31.df_resid) \n",
    "print(\"J =\", dfn,\", \", \"n-k-1 =\", dfd)\n",
    "F_crit = scipy.stats.f.ppf(1-alpha, dfn, dfd)\n",
    "print(\"F-critical: \", F_crit.round(3))"
   ]
  },
  {
   "cell_type": "code",
   "execution_count": 63,
   "id": "ab5037ce",
   "metadata": {},
   "outputs": [
    {
     "name": "stdout",
     "output_type": "stream",
     "text": [
      "Гипотеза 3 отвергается\n"
     ]
    }
   ],
   "source": [
    "F_stat = A.fvalue\n",
    "if (F_stat > F_crit):\n",
    "    print('Гипотеза 3 отвергается')\n",
    "else:\n",
    "    print('Гипотеза 3 не отвергается')"
   ]
  },
  {
   "cell_type": "code",
   "execution_count": null,
   "id": "51d7767a",
   "metadata": {},
   "outputs": [],
   "source": []
  }
 ],
 "metadata": {
  "kernelspec": {
   "display_name": "Python 3 (ipykernel)",
   "language": "python",
   "name": "python3"
  },
  "language_info": {
   "codemirror_mode": {
    "name": "ipython",
    "version": 3
   },
   "file_extension": ".py",
   "mimetype": "text/x-python",
   "name": "python",
   "nbconvert_exporter": "python",
   "pygments_lexer": "ipython3",
   "version": "3.9.13"
  }
 },
 "nbformat": 4,
 "nbformat_minor": 5
}
