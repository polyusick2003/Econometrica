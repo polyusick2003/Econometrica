{
 "cells": [
  {
   "cell_type": "code",
   "execution_count": 1,
   "id": "c82c1354",
   "metadata": {},
   "outputs": [],
   "source": [
    "import pandas as pd\n",
    "import numpy as np\n",
    "import statsmodels.formula.api as smf\n",
    "import seaborn as sns\n",
    "import matplotlib.pyplot as plt\n",
    "import scipy.stats as stats"
   ]
  },
  {
   "cell_type": "markdown",
   "id": "bfb39534",
   "metadata": {},
   "source": [
    "# Робастный F-тест"
   ]
  },
  {
   "cell_type": "markdown",
   "id": "3a19bc51",
   "metadata": {},
   "source": [
    "# 3.1 output equation"
   ]
  },
  {
   "cell_type": "code",
   "execution_count": 55,
   "id": "f2b9f92e",
   "metadata": {},
   "outputs": [
    {
     "data": {
      "text/html": [
       "<div>\n",
       "<style scoped>\n",
       "    .dataframe tbody tr th:only-of-type {\n",
       "        vertical-align: middle;\n",
       "    }\n",
       "\n",
       "    .dataframe tbody tr th {\n",
       "        vertical-align: top;\n",
       "    }\n",
       "\n",
       "    .dataframe thead th {\n",
       "        text-align: right;\n",
       "    }\n",
       "</style>\n",
       "<table border=\"1\" class=\"dataframe\">\n",
       "  <thead>\n",
       "    <tr style=\"text-align: right;\">\n",
       "      <th></th>\n",
       "      <th>capital</th>\n",
       "      <th>labour</th>\n",
       "      <th>output</th>\n",
       "      <th>wage</th>\n",
       "    </tr>\n",
       "  </thead>\n",
       "  <tbody>\n",
       "    <tr>\n",
       "      <th>0</th>\n",
       "      <td>2.606563</td>\n",
       "      <td>184</td>\n",
       "      <td>9.250759</td>\n",
       "      <td>43.080307</td>\n",
       "    </tr>\n",
       "    <tr>\n",
       "      <th>1</th>\n",
       "      <td>1.323237</td>\n",
       "      <td>91</td>\n",
       "      <td>3.664310</td>\n",
       "      <td>27.780016</td>\n",
       "    </tr>\n",
       "    <tr>\n",
       "      <th>2</th>\n",
       "      <td>22.093692</td>\n",
       "      <td>426</td>\n",
       "      <td>28.781516</td>\n",
       "      <td>44.467748</td>\n",
       "    </tr>\n",
       "    <tr>\n",
       "      <th>3</th>\n",
       "      <td>10.737851</td>\n",
       "      <td>72</td>\n",
       "      <td>4.124642</td>\n",
       "      <td>39.734710</td>\n",
       "    </tr>\n",
       "    <tr>\n",
       "      <th>4</th>\n",
       "      <td>1.161365</td>\n",
       "      <td>46</td>\n",
       "      <td>2.890150</td>\n",
       "      <td>34.650709</td>\n",
       "    </tr>\n",
       "    <tr>\n",
       "      <th>...</th>\n",
       "      <td>...</td>\n",
       "      <td>...</td>\n",
       "      <td>...</td>\n",
       "      <td>...</td>\n",
       "    </tr>\n",
       "    <tr>\n",
       "      <th>564</th>\n",
       "      <td>2.625403</td>\n",
       "      <td>20</td>\n",
       "      <td>1.424376</td>\n",
       "      <td>33.477545</td>\n",
       "    </tr>\n",
       "    <tr>\n",
       "      <th>565</th>\n",
       "      <td>1.276386</td>\n",
       "      <td>61</td>\n",
       "      <td>2.109048</td>\n",
       "      <td>26.300732</td>\n",
       "    </tr>\n",
       "    <tr>\n",
       "      <th>566</th>\n",
       "      <td>1.953869</td>\n",
       "      <td>117</td>\n",
       "      <td>6.241870</td>\n",
       "      <td>41.153979</td>\n",
       "    </tr>\n",
       "    <tr>\n",
       "      <th>567</th>\n",
       "      <td>1.318527</td>\n",
       "      <td>46</td>\n",
       "      <td>7.902237</td>\n",
       "      <td>66.720139</td>\n",
       "    </tr>\n",
       "    <tr>\n",
       "      <th>568</th>\n",
       "      <td>2.832391</td>\n",
       "      <td>161</td>\n",
       "      <td>6.804085</td>\n",
       "      <td>36.618435</td>\n",
       "    </tr>\n",
       "  </tbody>\n",
       "</table>\n",
       "<p>569 rows × 4 columns</p>\n",
       "</div>"
      ],
      "text/plain": [
       "       capital  labour     output       wage\n",
       "0     2.606563     184   9.250759  43.080307\n",
       "1     1.323237      91   3.664310  27.780016\n",
       "2    22.093692     426  28.781516  44.467748\n",
       "3    10.737851      72   4.124642  39.734710\n",
       "4     1.161365      46   2.890150  34.650709\n",
       "..         ...     ...        ...        ...\n",
       "564   2.625403      20   1.424376  33.477545\n",
       "565   1.276386      61   2.109048  26.300732\n",
       "566   1.953869     117   6.241870  41.153979\n",
       "567   1.318527      46   7.902237  66.720139\n",
       "568   2.832391     161   6.804085  36.618435\n",
       "\n",
       "[569 rows x 4 columns]"
      ]
     },
     "execution_count": 55,
     "metadata": {},
     "output_type": "execute_result"
    }
   ],
   "source": [
    "df = pd.read_csv('https://raw.githubusercontent.com/artamonoff/Econometrica/master/python-notebooks/data-csv/Labour.csv')\n",
    "df"
   ]
  },
  {
   "cell_type": "code",
   "execution_count": 35,
   "id": "e4cc431d",
   "metadata": {},
   "outputs": [],
   "source": [
    "model = smf.ols(data=df, formula='np.log(output)~np.log(capital)+np.log(labour)+I(np.log(capital)**2)+I(np.log(labour)**2)').fit(cov_type='HC3')"
   ]
  },
  {
   "cell_type": "code",
   "execution_count": 36,
   "id": "7769fcf4",
   "metadata": {},
   "outputs": [
    {
     "data": {
      "text/html": [
       "<table class=\"simpletable\">\n",
       "<tr>\n",
       "             <td></td>                <th>coef</th>     <th>std err</th>      <th>z</th>      <th>P>|z|</th>  <th>[0.025</th>    <th>0.975]</th>  \n",
       "</tr>\n",
       "<tr>\n",
       "  <th>Intercept</th>               <td>   -1.3039</td> <td>    0.493</td> <td>   -2.643</td> <td> 0.008</td> <td>   -2.271</td> <td>   -0.337</td>\n",
       "</tr>\n",
       "<tr>\n",
       "  <th>np.log(capital)</th>         <td>    0.1831</td> <td>    0.029</td> <td>    6.215</td> <td> 0.000</td> <td>    0.125</td> <td>    0.241</td>\n",
       "</tr>\n",
       "<tr>\n",
       "  <th>np.log(labour)</th>          <td>    0.5153</td> <td>    0.206</td> <td>    2.497</td> <td> 0.013</td> <td>    0.111</td> <td>    0.920</td>\n",
       "</tr>\n",
       "<tr>\n",
       "  <th>I(np.log(capital) ** 2)</th> <td>    0.0227</td> <td>    0.008</td> <td>    2.737</td> <td> 0.006</td> <td>    0.006</td> <td>    0.039</td>\n",
       "</tr>\n",
       "<tr>\n",
       "  <th>I(np.log(labour) ** 2)</th>  <td>    0.0203</td> <td>    0.021</td> <td>    0.965</td> <td> 0.334</td> <td>   -0.021</td> <td>    0.061</td>\n",
       "</tr>\n",
       "</table>"
      ],
      "text/plain": [
       "<class 'statsmodels.iolib.table.SimpleTable'>"
      ]
     },
     "execution_count": 36,
     "metadata": {},
     "output_type": "execute_result"
    }
   ],
   "source": [
    "model.summary().tables[1]"
   ]
  },
  {
   "cell_type": "code",
   "execution_count": 9,
   "id": "41b84994",
   "metadata": {},
   "outputs": [
    {
     "data": {
      "text/plain": [
       "0      0.094046\n",
       "1     -0.187225\n",
       "2      0.016362\n",
       "3     -0.416276\n",
       "4      0.067439\n",
       "         ...   \n",
       "564   -0.265799\n",
       "565   -0.456608\n",
       "566    0.088908\n",
       "567    1.048807\n",
       "568   -0.135462\n",
       "Length: 569, dtype: float64"
      ]
     },
     "execution_count": 9,
     "metadata": {},
     "output_type": "execute_result"
    }
   ],
   "source": [
    "model.resid"
   ]
  },
  {
   "cell_type": "code",
   "execution_count": 88,
   "id": "95b05e55",
   "metadata": {},
   "outputs": [
    {
     "ename": "NameError",
     "evalue": "name 'robust' is not defined",
     "output_type": "error",
     "traceback": [
      "\u001b[0;31m---------------------------------------------------------------------------\u001b[0m",
      "\u001b[0;31mNameError\u001b[0m                                 Traceback (most recent call last)",
      "\u001b[0;32m/var/folders/d6/bchl4dsd7311y3d_11jx0s040000gn/T/ipykernel_80733/1517842529.py\u001b[0m in \u001b[0;36m<module>\u001b[0;34m\u001b[0m\n\u001b[0;32m----> 1\u001b[0;31m \u001b[0mrobust\u001b[0m\u001b[0;34m.\u001b[0m\u001b[0mt\u001b[0m\u001b[0;34m.\u001b[0m\u001b[0mtest\u001b[0m \u001b[0;34m<\u001b[0m\u001b[0;34m-\u001b[0m \u001b[0mcoeftest\u001b[0m\u001b[0;34m(\u001b[0m\u001b[0mregr\u001b[0m\u001b[0;34m,\u001b[0m \u001b[0mvcov\u001b[0m \u001b[0;34m=\u001b[0m \u001b[0mvcovHC\u001b[0m\u001b[0;34m)\u001b[0m\u001b[0;34m\u001b[0m\u001b[0;34m\u001b[0m\u001b[0m\n\u001b[0m\u001b[1;32m      2\u001b[0m \u001b[0mrobust\u001b[0m\u001b[0;34m.\u001b[0m\u001b[0mt\u001b[0m\u001b[0;34m.\u001b[0m\u001b[0mtest\u001b[0m\u001b[0;34m\u001b[0m\u001b[0;34m\u001b[0m\u001b[0m\n",
      "\u001b[0;31mNameError\u001b[0m: name 'robust' is not defined"
     ]
    }
   ],
   "source": [
    "robust.t.test <- coeftest(regr, vcov = vcovHC)\n",
    "robust.t.test"
   ]
  },
  {
   "cell_type": "code",
   "execution_count": 10,
   "id": "8840a007",
   "metadata": {},
   "outputs": [],
   "source": [
    "resSq = sum(model.resid**2)"
   ]
  },
  {
   "cell_type": "code",
   "execution_count": 11,
   "id": "d5f6e651",
   "metadata": {},
   "outputs": [],
   "source": [
    "sum_resid = 0\n",
    "for i in range(1,len(model.resid)-1):\n",
    "    sum_resid+=(model.resid[i+1]-model.resid[i])**2"
   ]
  },
  {
   "cell_type": "code",
   "execution_count": 29,
   "id": "43046e68",
   "metadata": {},
   "outputs": [
    {
     "data": {
      "text/plain": [
       "1.9247139113134786"
      ]
     },
     "execution_count": 29,
     "metadata": {},
     "output_type": "execute_result"
    }
   ],
   "source": [
    "sum_resid/resSq"
   ]
  },
  {
   "cell_type": "markdown",
   "id": "56cc445b",
   "metadata": {},
   "source": [
    "# 3.2 cost equation"
   ]
  },
  {
   "cell_type": "code",
   "execution_count": 59,
   "id": "d8cfb0f7",
   "metadata": {},
   "outputs": [
    {
     "data": {
      "text/html": [
       "<div>\n",
       "<style scoped>\n",
       "    .dataframe tbody tr th:only-of-type {\n",
       "        vertical-align: middle;\n",
       "    }\n",
       "\n",
       "    .dataframe tbody tr th {\n",
       "        vertical-align: top;\n",
       "    }\n",
       "\n",
       "    .dataframe thead th {\n",
       "        text-align: right;\n",
       "    }\n",
       "</style>\n",
       "<table border=\"1\" class=\"dataframe\">\n",
       "  <thead>\n",
       "    <tr style=\"text-align: right;\">\n",
       "      <th></th>\n",
       "      <th>cost</th>\n",
       "      <th>q</th>\n",
       "      <th>pl</th>\n",
       "      <th>sl</th>\n",
       "      <th>pk</th>\n",
       "      <th>sk</th>\n",
       "      <th>pf</th>\n",
       "      <th>sf</th>\n",
       "    </tr>\n",
       "  </thead>\n",
       "  <tbody>\n",
       "    <tr>\n",
       "      <th>0</th>\n",
       "      <td>0.2130</td>\n",
       "      <td>8.0</td>\n",
       "      <td>6869.47</td>\n",
       "      <td>0.3291</td>\n",
       "      <td>64.945</td>\n",
       "      <td>0.4197</td>\n",
       "      <td>18.000</td>\n",
       "      <td>0.2512</td>\n",
       "    </tr>\n",
       "    <tr>\n",
       "      <th>1</th>\n",
       "      <td>3.0427</td>\n",
       "      <td>869.0</td>\n",
       "      <td>8372.96</td>\n",
       "      <td>0.1030</td>\n",
       "      <td>68.227</td>\n",
       "      <td>0.2913</td>\n",
       "      <td>21.067</td>\n",
       "      <td>0.6057</td>\n",
       "    </tr>\n",
       "    <tr>\n",
       "      <th>2</th>\n",
       "      <td>9.4059</td>\n",
       "      <td>1412.0</td>\n",
       "      <td>7960.90</td>\n",
       "      <td>0.0891</td>\n",
       "      <td>40.692</td>\n",
       "      <td>0.1567</td>\n",
       "      <td>41.530</td>\n",
       "      <td>0.7542</td>\n",
       "    </tr>\n",
       "    <tr>\n",
       "      <th>3</th>\n",
       "      <td>0.7606</td>\n",
       "      <td>65.0</td>\n",
       "      <td>8971.89</td>\n",
       "      <td>0.2802</td>\n",
       "      <td>41.243</td>\n",
       "      <td>0.1282</td>\n",
       "      <td>28.539</td>\n",
       "      <td>0.5916</td>\n",
       "    </tr>\n",
       "    <tr>\n",
       "      <th>4</th>\n",
       "      <td>2.2587</td>\n",
       "      <td>295.0</td>\n",
       "      <td>8218.40</td>\n",
       "      <td>0.1772</td>\n",
       "      <td>71.940</td>\n",
       "      <td>0.1623</td>\n",
       "      <td>39.200</td>\n",
       "      <td>0.6606</td>\n",
       "    </tr>\n",
       "    <tr>\n",
       "      <th>...</th>\n",
       "      <td>...</td>\n",
       "      <td>...</td>\n",
       "      <td>...</td>\n",
       "      <td>...</td>\n",
       "      <td>...</td>\n",
       "      <td>...</td>\n",
       "      <td>...</td>\n",
       "      <td>...</td>\n",
       "    </tr>\n",
       "    <tr>\n",
       "      <th>153</th>\n",
       "      <td>6.8293</td>\n",
       "      <td>946.6</td>\n",
       "      <td>10642.16</td>\n",
       "      <td>0.0883</td>\n",
       "      <td>43.600</td>\n",
       "      <td>0.1914</td>\n",
       "      <td>51.463</td>\n",
       "      <td>0.7203</td>\n",
       "    </tr>\n",
       "    <tr>\n",
       "      <th>154</th>\n",
       "      <td>3.7605</td>\n",
       "      <td>377.0</td>\n",
       "      <td>7432.24</td>\n",
       "      <td>0.2117</td>\n",
       "      <td>74.120</td>\n",
       "      <td>0.2274</td>\n",
       "      <td>33.436</td>\n",
       "      <td>0.5609</td>\n",
       "    </tr>\n",
       "    <tr>\n",
       "      <th>155</th>\n",
       "      <td>3.9822</td>\n",
       "      <td>391.0</td>\n",
       "      <td>5826.04</td>\n",
       "      <td>0.1926</td>\n",
       "      <td>78.288</td>\n",
       "      <td>0.0924</td>\n",
       "      <td>44.633</td>\n",
       "      <td>0.7151</td>\n",
       "    </tr>\n",
       "    <tr>\n",
       "      <th>156</th>\n",
       "      <td>30.1880</td>\n",
       "      <td>5317.0</td>\n",
       "      <td>9586.63</td>\n",
       "      <td>0.0845</td>\n",
       "      <td>78.008</td>\n",
       "      <td>0.2009</td>\n",
       "      <td>41.840</td>\n",
       "      <td>0.7147</td>\n",
       "    </tr>\n",
       "    <tr>\n",
       "      <th>157</th>\n",
       "      <td>67.8562</td>\n",
       "      <td>15220.0</td>\n",
       "      <td>6986.09</td>\n",
       "      <td>0.1451</td>\n",
       "      <td>74.025</td>\n",
       "      <td>0.2596</td>\n",
       "      <td>25.662</td>\n",
       "      <td>0.5945</td>\n",
       "    </tr>\n",
       "  </tbody>\n",
       "</table>\n",
       "<p>158 rows × 8 columns</p>\n",
       "</div>"
      ],
      "text/plain": [
       "        cost        q        pl      sl      pk      sk      pf      sf\n",
       "0     0.2130      8.0   6869.47  0.3291  64.945  0.4197  18.000  0.2512\n",
       "1     3.0427    869.0   8372.96  0.1030  68.227  0.2913  21.067  0.6057\n",
       "2     9.4059   1412.0   7960.90  0.0891  40.692  0.1567  41.530  0.7542\n",
       "3     0.7606     65.0   8971.89  0.2802  41.243  0.1282  28.539  0.5916\n",
       "4     2.2587    295.0   8218.40  0.1772  71.940  0.1623  39.200  0.6606\n",
       "..       ...      ...       ...     ...     ...     ...     ...     ...\n",
       "153   6.8293    946.6  10642.16  0.0883  43.600  0.1914  51.463  0.7203\n",
       "154   3.7605    377.0   7432.24  0.2117  74.120  0.2274  33.436  0.5609\n",
       "155   3.9822    391.0   5826.04  0.1926  78.288  0.0924  44.633  0.7151\n",
       "156  30.1880   5317.0   9586.63  0.0845  78.008  0.2009  41.840  0.7147\n",
       "157  67.8562  15220.0   6986.09  0.1451  74.025  0.2596  25.662  0.5945\n",
       "\n",
       "[158 rows x 8 columns]"
      ]
     },
     "execution_count": 59,
     "metadata": {},
     "output_type": "execute_result"
    }
   ],
   "source": [
    "df = pd.read_csv('https://raw.githubusercontent.com/artamonoff/Econometrica/master/python-notebooks/data-csv/Electricity.csv')\n",
    "df"
   ]
  },
  {
   "cell_type": "code",
   "execution_count": 60,
   "id": "74dd5ded",
   "metadata": {},
   "outputs": [],
   "source": [
    "model = smf.ols(data=df, formula='np.log(cost)~np.log(q)+I(np.log(q)**2)+np.log(pl)+np.log(pk)+np.log(pf)').fit(cov_type='HC3')"
   ]
  },
  {
   "cell_type": "code",
   "execution_count": 61,
   "id": "a1adcf90",
   "metadata": {},
   "outputs": [
    {
     "data": {
      "text/html": [
       "<table class=\"simpletable\">\n",
       "<tr>\n",
       "          <td></td>             <th>coef</th>     <th>std err</th>      <th>z</th>      <th>P>|z|</th>  <th>[0.025</th>    <th>0.975]</th>  \n",
       "</tr>\n",
       "<tr>\n",
       "  <th>Intercept</th>         <td>   -6.7387</td> <td>    0.847</td> <td>   -7.954</td> <td> 0.000</td> <td>   -8.399</td> <td>   -5.078</td>\n",
       "</tr>\n",
       "<tr>\n",
       "  <th>np.log(q)</th>         <td>    0.4030</td> <td>    0.066</td> <td>    6.086</td> <td> 0.000</td> <td>    0.273</td> <td>    0.533</td>\n",
       "</tr>\n",
       "<tr>\n",
       "  <th>I(np.log(q) ** 2)</th> <td>    0.0304</td> <td>    0.004</td> <td>    7.419</td> <td> 0.000</td> <td>    0.022</td> <td>    0.038</td>\n",
       "</tr>\n",
       "<tr>\n",
       "  <th>np.log(pl)</th>        <td>    0.1461</td> <td>    0.085</td> <td>    1.711</td> <td> 0.087</td> <td>   -0.021</td> <td>    0.313</td>\n",
       "</tr>\n",
       "<tr>\n",
       "  <th>np.log(pk)</th>        <td>    0.1571</td> <td>    0.062</td> <td>    2.522</td> <td> 0.012</td> <td>    0.035</td> <td>    0.279</td>\n",
       "</tr>\n",
       "<tr>\n",
       "  <th>np.log(pf)</th>        <td>    0.6847</td> <td>    0.052</td> <td>   13.188</td> <td> 0.000</td> <td>    0.583</td> <td>    0.786</td>\n",
       "</tr>\n",
       "</table>"
      ],
      "text/plain": [
       "<class 'statsmodels.iolib.table.SimpleTable'>"
      ]
     },
     "execution_count": 61,
     "metadata": {},
     "output_type": "execute_result"
    }
   ],
   "source": [
    "model.summary().tables[1]"
   ]
  },
  {
   "cell_type": "code",
   "execution_count": 43,
   "id": "e61e6169",
   "metadata": {},
   "outputs": [
    {
     "data": {
      "text/plain": [
       "0      0.297328\n",
       "1     -0.339409\n",
       "2      0.010243\n",
       "3      0.043852\n",
       "4     -0.223205\n",
       "         ...   \n",
       "153   -0.177107\n",
       "154    0.219867\n",
       "155    0.078453\n",
       "156   -0.131384\n",
       "157    0.060984\n",
       "Length: 158, dtype: float64"
      ]
     },
     "execution_count": 43,
     "metadata": {},
     "output_type": "execute_result"
    }
   ],
   "source": [
    "model.resid"
   ]
  },
  {
   "cell_type": "code",
   "execution_count": 44,
   "id": "2b769721",
   "metadata": {},
   "outputs": [],
   "source": [
    "resSq = sum(model.resid**2)"
   ]
  },
  {
   "cell_type": "code",
   "execution_count": 45,
   "id": "34779e3a",
   "metadata": {},
   "outputs": [],
   "source": [
    "sum_resid = 0\n",
    "for i in range(1,len(model.resid)-1):\n",
    "    sum_resid+=(model.resid[i+1]-model.resid[i])**2"
   ]
  },
  {
   "cell_type": "code",
   "execution_count": 46,
   "id": "ce93af2b",
   "metadata": {},
   "outputs": [
    {
     "data": {
      "text/plain": [
       "1.6584579342833776"
      ]
     },
     "execution_count": 46,
     "metadata": {},
     "output_type": "execute_result"
    }
   ],
   "source": [
    "sum_resid/resSq"
   ]
  },
  {
   "cell_type": "markdown",
   "id": "5584f98f",
   "metadata": {},
   "source": [
    "# Серийная корреляция"
   ]
  },
  {
   "cell_type": "markdown",
   "id": "5ea25ab0",
   "metadata": {},
   "source": [
    "# 1 DW-тест"
   ]
  },
  {
   "cell_type": "markdown",
   "id": "eedecc97",
   "metadata": {},
   "source": [
    "# 1.1 Icecream consumption"
   ]
  },
  {
   "cell_type": "code",
   "execution_count": 66,
   "id": "5084b98a",
   "metadata": {},
   "outputs": [
    {
     "data": {
      "text/html": [
       "<div>\n",
       "<style scoped>\n",
       "    .dataframe tbody tr th:only-of-type {\n",
       "        vertical-align: middle;\n",
       "    }\n",
       "\n",
       "    .dataframe tbody tr th {\n",
       "        vertical-align: top;\n",
       "    }\n",
       "\n",
       "    .dataframe thead th {\n",
       "        text-align: right;\n",
       "    }\n",
       "</style>\n",
       "<table border=\"1\" class=\"dataframe\">\n",
       "  <thead>\n",
       "    <tr style=\"text-align: right;\">\n",
       "      <th></th>\n",
       "      <th>obs</th>\n",
       "      <th>cons</th>\n",
       "      <th>price</th>\n",
       "      <th>income</th>\n",
       "      <th>temp</th>\n",
       "      <th>week</th>\n",
       "    </tr>\n",
       "  </thead>\n",
       "  <tbody>\n",
       "    <tr>\n",
       "      <th>0</th>\n",
       "      <td>1</td>\n",
       "      <td>0.386</td>\n",
       "      <td>0.270</td>\n",
       "      <td>78</td>\n",
       "      <td>41</td>\n",
       "      <td>1</td>\n",
       "    </tr>\n",
       "    <tr>\n",
       "      <th>1</th>\n",
       "      <td>2</td>\n",
       "      <td>0.374</td>\n",
       "      <td>0.282</td>\n",
       "      <td>79</td>\n",
       "      <td>56</td>\n",
       "      <td>2</td>\n",
       "    </tr>\n",
       "    <tr>\n",
       "      <th>2</th>\n",
       "      <td>3</td>\n",
       "      <td>0.393</td>\n",
       "      <td>0.277</td>\n",
       "      <td>81</td>\n",
       "      <td>63</td>\n",
       "      <td>3</td>\n",
       "    </tr>\n",
       "    <tr>\n",
       "      <th>3</th>\n",
       "      <td>4</td>\n",
       "      <td>0.425</td>\n",
       "      <td>0.280</td>\n",
       "      <td>80</td>\n",
       "      <td>68</td>\n",
       "      <td>4</td>\n",
       "    </tr>\n",
       "    <tr>\n",
       "      <th>4</th>\n",
       "      <td>5</td>\n",
       "      <td>0.406</td>\n",
       "      <td>0.272</td>\n",
       "      <td>76</td>\n",
       "      <td>69</td>\n",
       "      <td>5</td>\n",
       "    </tr>\n",
       "    <tr>\n",
       "      <th>5</th>\n",
       "      <td>6</td>\n",
       "      <td>0.344</td>\n",
       "      <td>0.262</td>\n",
       "      <td>78</td>\n",
       "      <td>65</td>\n",
       "      <td>6</td>\n",
       "    </tr>\n",
       "    <tr>\n",
       "      <th>6</th>\n",
       "      <td>7</td>\n",
       "      <td>0.327</td>\n",
       "      <td>0.275</td>\n",
       "      <td>82</td>\n",
       "      <td>61</td>\n",
       "      <td>7</td>\n",
       "    </tr>\n",
       "    <tr>\n",
       "      <th>7</th>\n",
       "      <td>8</td>\n",
       "      <td>0.288</td>\n",
       "      <td>0.267</td>\n",
       "      <td>79</td>\n",
       "      <td>47</td>\n",
       "      <td>8</td>\n",
       "    </tr>\n",
       "    <tr>\n",
       "      <th>8</th>\n",
       "      <td>9</td>\n",
       "      <td>0.269</td>\n",
       "      <td>0.265</td>\n",
       "      <td>76</td>\n",
       "      <td>32</td>\n",
       "      <td>9</td>\n",
       "    </tr>\n",
       "    <tr>\n",
       "      <th>9</th>\n",
       "      <td>10</td>\n",
       "      <td>0.256</td>\n",
       "      <td>0.277</td>\n",
       "      <td>79</td>\n",
       "      <td>24</td>\n",
       "      <td>10</td>\n",
       "    </tr>\n",
       "    <tr>\n",
       "      <th>10</th>\n",
       "      <td>11</td>\n",
       "      <td>0.286</td>\n",
       "      <td>0.282</td>\n",
       "      <td>82</td>\n",
       "      <td>28</td>\n",
       "      <td>11</td>\n",
       "    </tr>\n",
       "    <tr>\n",
       "      <th>11</th>\n",
       "      <td>12</td>\n",
       "      <td>0.298</td>\n",
       "      <td>0.270</td>\n",
       "      <td>85</td>\n",
       "      <td>26</td>\n",
       "      <td>12</td>\n",
       "    </tr>\n",
       "    <tr>\n",
       "      <th>12</th>\n",
       "      <td>13</td>\n",
       "      <td>0.329</td>\n",
       "      <td>0.272</td>\n",
       "      <td>86</td>\n",
       "      <td>32</td>\n",
       "      <td>13</td>\n",
       "    </tr>\n",
       "    <tr>\n",
       "      <th>13</th>\n",
       "      <td>14</td>\n",
       "      <td>0.318</td>\n",
       "      <td>0.287</td>\n",
       "      <td>83</td>\n",
       "      <td>40</td>\n",
       "      <td>14</td>\n",
       "    </tr>\n",
       "    <tr>\n",
       "      <th>14</th>\n",
       "      <td>15</td>\n",
       "      <td>0.381</td>\n",
       "      <td>0.277</td>\n",
       "      <td>84</td>\n",
       "      <td>55</td>\n",
       "      <td>15</td>\n",
       "    </tr>\n",
       "    <tr>\n",
       "      <th>15</th>\n",
       "      <td>16</td>\n",
       "      <td>0.381</td>\n",
       "      <td>0.287</td>\n",
       "      <td>82</td>\n",
       "      <td>63</td>\n",
       "      <td>16</td>\n",
       "    </tr>\n",
       "    <tr>\n",
       "      <th>16</th>\n",
       "      <td>17</td>\n",
       "      <td>0.470</td>\n",
       "      <td>0.280</td>\n",
       "      <td>80</td>\n",
       "      <td>72</td>\n",
       "      <td>17</td>\n",
       "    </tr>\n",
       "    <tr>\n",
       "      <th>17</th>\n",
       "      <td>18</td>\n",
       "      <td>0.443</td>\n",
       "      <td>0.277</td>\n",
       "      <td>78</td>\n",
       "      <td>72</td>\n",
       "      <td>18</td>\n",
       "    </tr>\n",
       "    <tr>\n",
       "      <th>18</th>\n",
       "      <td>19</td>\n",
       "      <td>0.386</td>\n",
       "      <td>0.277</td>\n",
       "      <td>84</td>\n",
       "      <td>67</td>\n",
       "      <td>19</td>\n",
       "    </tr>\n",
       "    <tr>\n",
       "      <th>19</th>\n",
       "      <td>20</td>\n",
       "      <td>0.342</td>\n",
       "      <td>0.277</td>\n",
       "      <td>86</td>\n",
       "      <td>60</td>\n",
       "      <td>20</td>\n",
       "    </tr>\n",
       "    <tr>\n",
       "      <th>20</th>\n",
       "      <td>21</td>\n",
       "      <td>0.319</td>\n",
       "      <td>0.292</td>\n",
       "      <td>85</td>\n",
       "      <td>44</td>\n",
       "      <td>21</td>\n",
       "    </tr>\n",
       "    <tr>\n",
       "      <th>21</th>\n",
       "      <td>22</td>\n",
       "      <td>0.307</td>\n",
       "      <td>0.287</td>\n",
       "      <td>87</td>\n",
       "      <td>40</td>\n",
       "      <td>22</td>\n",
       "    </tr>\n",
       "    <tr>\n",
       "      <th>22</th>\n",
       "      <td>23</td>\n",
       "      <td>0.284</td>\n",
       "      <td>0.277</td>\n",
       "      <td>94</td>\n",
       "      <td>32</td>\n",
       "      <td>23</td>\n",
       "    </tr>\n",
       "    <tr>\n",
       "      <th>23</th>\n",
       "      <td>24</td>\n",
       "      <td>0.326</td>\n",
       "      <td>0.285</td>\n",
       "      <td>92</td>\n",
       "      <td>27</td>\n",
       "      <td>24</td>\n",
       "    </tr>\n",
       "    <tr>\n",
       "      <th>24</th>\n",
       "      <td>25</td>\n",
       "      <td>0.309</td>\n",
       "      <td>0.282</td>\n",
       "      <td>95</td>\n",
       "      <td>28</td>\n",
       "      <td>25</td>\n",
       "    </tr>\n",
       "    <tr>\n",
       "      <th>25</th>\n",
       "      <td>26</td>\n",
       "      <td>0.359</td>\n",
       "      <td>0.265</td>\n",
       "      <td>96</td>\n",
       "      <td>33</td>\n",
       "      <td>26</td>\n",
       "    </tr>\n",
       "    <tr>\n",
       "      <th>26</th>\n",
       "      <td>27</td>\n",
       "      <td>0.376</td>\n",
       "      <td>0.265</td>\n",
       "      <td>94</td>\n",
       "      <td>41</td>\n",
       "      <td>27</td>\n",
       "    </tr>\n",
       "    <tr>\n",
       "      <th>27</th>\n",
       "      <td>28</td>\n",
       "      <td>0.416</td>\n",
       "      <td>0.265</td>\n",
       "      <td>96</td>\n",
       "      <td>52</td>\n",
       "      <td>28</td>\n",
       "    </tr>\n",
       "    <tr>\n",
       "      <th>28</th>\n",
       "      <td>29</td>\n",
       "      <td>0.437</td>\n",
       "      <td>0.268</td>\n",
       "      <td>91</td>\n",
       "      <td>64</td>\n",
       "      <td>29</td>\n",
       "    </tr>\n",
       "    <tr>\n",
       "      <th>29</th>\n",
       "      <td>30</td>\n",
       "      <td>0.548</td>\n",
       "      <td>0.260</td>\n",
       "      <td>90</td>\n",
       "      <td>71</td>\n",
       "      <td>30</td>\n",
       "    </tr>\n",
       "  </tbody>\n",
       "</table>\n",
       "</div>"
      ],
      "text/plain": [
       "    obs   cons  price  income  temp  week\n",
       "0     1  0.386  0.270      78    41     1\n",
       "1     2  0.374  0.282      79    56     2\n",
       "2     3  0.393  0.277      81    63     3\n",
       "3     4  0.425  0.280      80    68     4\n",
       "4     5  0.406  0.272      76    69     5\n",
       "5     6  0.344  0.262      78    65     6\n",
       "6     7  0.327  0.275      82    61     7\n",
       "7     8  0.288  0.267      79    47     8\n",
       "8     9  0.269  0.265      76    32     9\n",
       "9    10  0.256  0.277      79    24    10\n",
       "10   11  0.286  0.282      82    28    11\n",
       "11   12  0.298  0.270      85    26    12\n",
       "12   13  0.329  0.272      86    32    13\n",
       "13   14  0.318  0.287      83    40    14\n",
       "14   15  0.381  0.277      84    55    15\n",
       "15   16  0.381  0.287      82    63    16\n",
       "16   17  0.470  0.280      80    72    17\n",
       "17   18  0.443  0.277      78    72    18\n",
       "18   19  0.386  0.277      84    67    19\n",
       "19   20  0.342  0.277      86    60    20\n",
       "20   21  0.319  0.292      85    44    21\n",
       "21   22  0.307  0.287      87    40    22\n",
       "22   23  0.284  0.277      94    32    23\n",
       "23   24  0.326  0.285      92    27    24\n",
       "24   25  0.309  0.282      95    28    25\n",
       "25   26  0.359  0.265      96    33    26\n",
       "26   27  0.376  0.265      94    41    27\n",
       "27   28  0.416  0.265      96    52    28\n",
       "28   29  0.437  0.268      91    64    29\n",
       "29   30  0.548  0.260      90    71    30"
      ]
     },
     "execution_count": 66,
     "metadata": {},
     "output_type": "execute_result"
    }
   ],
   "source": [
    "df = pd.read_csv('https://raw.githubusercontent.com/artamonoff/Econometrica/master/python-notebooks/data-csv/icecream.csv')\n",
    "df"
   ]
  },
  {
   "cell_type": "code",
   "execution_count": 67,
   "id": "69fdff30",
   "metadata": {},
   "outputs": [
    {
     "data": {
      "text/plain": [
       "Intercept    0.20\n",
       "income       0.00\n",
       "price       -1.04\n",
       "temp         0.00\n",
       "dtype: float64"
      ]
     },
     "execution_count": 67,
     "metadata": {},
     "output_type": "execute_result"
    }
   ],
   "source": [
    "model = smf.ols(data=df, formula='cons~income+price+temp').fit()\n",
    "model.params.round(2)"
   ]
  },
  {
   "cell_type": "code",
   "execution_count": 68,
   "id": "96a74008",
   "metadata": {},
   "outputs": [],
   "source": [
    "resSq = sum(model.resid**2)"
   ]
  },
  {
   "cell_type": "code",
   "execution_count": 69,
   "id": "37d0ed1f",
   "metadata": {},
   "outputs": [],
   "source": [
    "sum_resid = 0\n",
    "for i in range(len(model.resid)-1):\n",
    "    sum_resid+=(model.resid[i+1]-model.resid[i])**2"
   ]
  },
  {
   "cell_type": "code",
   "execution_count": 70,
   "id": "9ac54974",
   "metadata": {},
   "outputs": [
    {
     "data": {
      "text/plain": [
       "1.0211693122833825"
      ]
     },
     "execution_count": 70,
     "metadata": {},
     "output_type": "execute_result"
    }
   ],
   "source": [
    "sum_resid/resSq"
   ]
  },
  {
   "cell_type": "markdown",
   "id": "b6e2188a",
   "metadata": {},
   "source": [
    "# 1.2 Consumption equation"
   ]
  },
  {
   "cell_type": "code",
   "execution_count": 72,
   "id": "f4f108b5",
   "metadata": {},
   "outputs": [
    {
     "data": {
      "text/html": [
       "<div>\n",
       "<style scoped>\n",
       "    .dataframe tbody tr th:only-of-type {\n",
       "        vertical-align: middle;\n",
       "    }\n",
       "\n",
       "    .dataframe tbody tr th {\n",
       "        vertical-align: top;\n",
       "    }\n",
       "\n",
       "    .dataframe thead th {\n",
       "        text-align: right;\n",
       "    }\n",
       "</style>\n",
       "<table border=\"1\" class=\"dataframe\">\n",
       "  <thead>\n",
       "    <tr style=\"text-align: right;\">\n",
       "      <th></th>\n",
       "      <th>Unnamed: 0</th>\n",
       "      <th>yd</th>\n",
       "      <th>ce</th>\n",
       "    </tr>\n",
       "  </thead>\n",
       "  <tbody>\n",
       "    <tr>\n",
       "      <th>0</th>\n",
       "      <td>1</td>\n",
       "      <td>59505.0</td>\n",
       "      <td>57168</td>\n",
       "    </tr>\n",
       "    <tr>\n",
       "      <th>1</th>\n",
       "      <td>2</td>\n",
       "      <td>59717.4</td>\n",
       "      <td>55464</td>\n",
       "    </tr>\n",
       "    <tr>\n",
       "      <th>2</th>\n",
       "      <td>3</td>\n",
       "      <td>59039.1</td>\n",
       "      <td>56332</td>\n",
       "    </tr>\n",
       "    <tr>\n",
       "      <th>3</th>\n",
       "      <td>4</td>\n",
       "      <td>61342.6</td>\n",
       "      <td>55836</td>\n",
       "    </tr>\n",
       "    <tr>\n",
       "      <th>4</th>\n",
       "      <td>5</td>\n",
       "      <td>60544.6</td>\n",
       "      <td>54488</td>\n",
       "    </tr>\n",
       "    <tr>\n",
       "      <th>...</th>\n",
       "      <td>...</td>\n",
       "      <td>...</td>\n",
       "      <td>...</td>\n",
       "    </tr>\n",
       "    <tr>\n",
       "      <th>195</th>\n",
       "      <td>196</td>\n",
       "      <td>390576.6</td>\n",
       "      <td>359372</td>\n",
       "    </tr>\n",
       "    <tr>\n",
       "      <th>196</th>\n",
       "      <td>197</td>\n",
       "      <td>391381.5</td>\n",
       "      <td>363896</td>\n",
       "    </tr>\n",
       "    <tr>\n",
       "      <th>197</th>\n",
       "      <td>198</td>\n",
       "      <td>389502.6</td>\n",
       "      <td>364428</td>\n",
       "    </tr>\n",
       "    <tr>\n",
       "      <th>198</th>\n",
       "      <td>199</td>\n",
       "      <td>388282.1</td>\n",
       "      <td>366224</td>\n",
       "    </tr>\n",
       "    <tr>\n",
       "      <th>199</th>\n",
       "      <td>200</td>\n",
       "      <td>388804.1</td>\n",
       "      <td>371236</td>\n",
       "    </tr>\n",
       "  </tbody>\n",
       "</table>\n",
       "<p>200 rows × 3 columns</p>\n",
       "</div>"
      ],
      "text/plain": [
       "     Unnamed: 0        yd      ce\n",
       "0             1   59505.0   57168\n",
       "1             2   59717.4   55464\n",
       "2             3   59039.1   56332\n",
       "3             4   61342.6   55836\n",
       "4             5   60544.6   54488\n",
       "..          ...       ...     ...\n",
       "195         196  390576.6  359372\n",
       "196         197  391381.5  363896\n",
       "197         198  389502.6  364428\n",
       "198         199  388282.1  366224\n",
       "199         200  388804.1  371236\n",
       "\n",
       "[200 rows x 3 columns]"
      ]
     },
     "execution_count": 72,
     "metadata": {},
     "output_type": "execute_result"
    }
   ],
   "source": [
    "df = pd.read_csv('https://raw.githubusercontent.com/artamonoff/Econometrica/master/python-notebooks/data-csv/Consumption.csv')\n",
    "df"
   ]
  },
  {
   "cell_type": "code",
   "execution_count": 74,
   "id": "f1a6d0b9",
   "metadata": {},
   "outputs": [
    {
     "data": {
      "text/plain": [
       "Intercept    -0.39\n",
       "np.log(ce)    1.04\n",
       "dtype: float64"
      ]
     },
     "execution_count": 74,
     "metadata": {},
     "output_type": "execute_result"
    }
   ],
   "source": [
    "model = smf.ols(data=df, formula='np.log(yd)~np.log(ce)').fit()\n",
    "model.params.round(2)"
   ]
  },
  {
   "cell_type": "code",
   "execution_count": 75,
   "id": "77f8ca29",
   "metadata": {},
   "outputs": [],
   "source": [
    "resSq = sum(model.resid**2)"
   ]
  },
  {
   "cell_type": "code",
   "execution_count": 76,
   "id": "e5459c4d",
   "metadata": {},
   "outputs": [],
   "source": [
    "sum_resid = 0\n",
    "for i in range(len(model.resid)-1):\n",
    "    sum_resid+=(model.resid[i+1]-model.resid[i])**2"
   ]
  },
  {
   "cell_type": "code",
   "execution_count": 77,
   "id": "e2915160",
   "metadata": {},
   "outputs": [
    {
     "data": {
      "text/plain": [
       "0.1871700336977041"
      ]
     },
     "execution_count": 77,
     "metadata": {},
     "output_type": "execute_result"
    }
   ],
   "source": [
    "sum_resid/resSq"
   ]
  },
  {
   "cell_type": "code",
   "execution_count": null,
   "id": "97504331",
   "metadata": {},
   "outputs": [],
   "source": []
  }
 ],
 "metadata": {
  "kernelspec": {
   "display_name": "Python 3 (ipykernel)",
   "language": "python",
   "name": "python3"
  },
  "language_info": {
   "codemirror_mode": {
    "name": "ipython",
    "version": 3
   },
   "file_extension": ".py",
   "mimetype": "text/x-python",
   "name": "python",
   "nbconvert_exporter": "python",
   "pygments_lexer": "ipython3",
   "version": "3.9.13"
  }
 },
 "nbformat": 4,
 "nbformat_minor": 5
}
